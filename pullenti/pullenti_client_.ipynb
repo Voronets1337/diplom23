{
 "cells": [
  {
   "cell_type": "code",
   "execution_count": 2,
   "metadata": {},
   "outputs": [],
   "source": [
    "from pullenti_client import Client\n",
    "\n",
    "client = Client('localhost', 8080)"
   ]
  },
  {
   "cell_type": "code",
   "execution_count": 1,
   "metadata": {},
   "outputs": [],
   "source": [
    "text_lenta = 'Глава государства Дмитрий Медведев и Председатель Правительства РФ Владимир Путин посетили Зимбабве с дружественным визитом'"
   ]
  },
  {
   "cell_type": "code",
   "execution_count": 3,
   "metadata": {},
   "outputs": [],
   "source": [
    "#text = 'В США прядь волос третьего президента Соединенных Штатов Томаса Джефферсона продали на аукционе в Техасе за 6,9 тысячи долларов, передает Life. Локоны бывшего лидера США ушли с молотка почти через 190 лет после его смерти. Их покупатель пожелал остаться неизвестным. Перед началом аукциона волосы Джефферсона оценивали в 3 тысячи долларов. В январе 2015 года прядь волос 16-го президента США Авраама Линкольна продали за 25 тысяч долларов на аукционе в Далласе. Выставленную на аукцион прядь срезал начальник медицинской службы Армии США Джозеф Барнс после того, как Линкольн был застрелен 14 апреля 1865 года Джоном Бутом. Томас Джефферсон был автором Декларации независимости США и третьим президентом страны (1801-1809 годы). Авраам Линкольн — первый президент от Республиканской партии США в 1861-1865 годах, национальный герой США.'\n",
    "#text = 'Глава государства Дмитрий Медведев и Председатель Правительства РФ Владимир Путин выразили глубочайшие соболезнования семье актрисы.'\n",
    "text='Глава государства Дмитрий Медведев и Председатель Правительства РФ Владимир Путин посетили Зимбабве с дружественным визитом'\n",
    "#text = 'Глава государства Дмитрий Медведев и Председатель Правительства РФ Владимир Путин выразили глубочайшие соболезнования семье актрисы. В США прядь волос третьего президента Соединенных Штатов Томаса Джефферсона продали на аукционе в Техасе за 6,9 тысячи долларов, передает Life. Локоны бывшего лидера США ушли с молотка почти через 190 лет после его смерти. Их покупатель пожелал остаться неизвестным. Перед началом аукциона волосы Джефферсона оценивали в 3 тысячи долларов. В январе 2015 года прядь волос 16-го президента США Авраама Линкольна продали за 25 тысяч долларов на аукционе в Далласе. Выставленную на аукцион прядь срезал начальник медицинской службы Армии США Джозеф Барнс после того, как Линкольн был застрелен 14 апреля 1865 года Джоном Бутом. Томас Джефферсон был автором Декларации независимости США и третьим президентом страны (1801-1809 годы). Авраам Линкольн — первый президент от Республиканской партии США в 1861-1865 годах, национальный герой США.'\n",
    "result = client(text)\n",
    "\n",
    "\n"
   ]
  },
  {
   "cell_type": "code",
   "execution_count": 3,
   "metadata": {},
   "outputs": [
    {
     "name": "stdout",
     "output_type": "stream",
     "text": [
      "Глава государства Дмитрий Медведев и Председатель Правительства РФ Владимир Путин посетили Зимбабве с дружественным визитом\n"
     ]
    }
   ],
   "source": [
    "print(text_lenta)\n",
    "result = client(text_lenta)"
   ]
  },
  {
   "cell_type": "code",
   "execution_count": 4,
   "metadata": {},
   "outputs": [
    {
     "name": "stdout",
     "output_type": "stream",
     "text": [
      "Глава государства Дмитрий Медведев и Председатель Правительства РФ \n",
      "PERSON────────────────────────────   PERSON────────────────────────\n",
      "PERSONPROPERTY───                    PERSONPROPERTY─────────────── \n",
      "                                                  ORGANIZATION──── \n",
      "                                                                GE \n",
      "Владимир Путин посетили Зимбабве с дружественным визитом\n",
      "──────────────          GEO─────                        \n"
     ]
    }
   ],
   "source": [
    "from ipymarkup import show_span_ascii_markup as show_markup\n",
    "\n",
    "spans = []\n",
    "for match in result.walk():\n",
    "    start, stop = match.span\n",
    "    label = match.referent.label\n",
    "    spans.append([start, stop, label])\n",
    "show_markup(result.text, spans)"
   ]
  },
  {
   "cell_type": "code",
   "execution_count": 5,
   "metadata": {},
   "outputs": [
    {
     "name": "stdout",
     "output_type": "stream",
     "text": [
      "Referent(label='PERSON', slots=[Slot(key='SEX', value='MALE'), Slot(key='LASTNAME', value='ПУТИН'), Slot(key='FIRSTNAME', value='ВЛАДИМИР'), Slot(key='ATTRIBUTE', value=Referent(label='PERSONPROPERTY', slots=[Slot(key='REF', value=Referent(label='ORGANIZATION', slots=[Slot(key='PROFILE', value='State'), Slot(key='TYPE', value='правительство'), Slot(key='GEO', value=Referent(label='GEO', slots=[Slot(key='ALPHA2', value='RU'), Slot(key='NAME', value='РФ'), Slot(key='NAME', value='РОССИЙСКАЯ ФЕДЕРАЦИЯ'), Slot(key='NAME', value='РОССИЯ'), Slot(key='TYPE', value='государство')]))])), Slot(key='NAME', value='председатель')]))])\n",
      "Referent(label='GEO', slots=[Slot(key='ALPHA2', value='ZW'), Slot(key='NAME', value='РЕСПУБЛИКА ЗИМБАБВЕ'), Slot(key='NAME', value='ЗИМБАБВЕ'), Slot(key='TYPE', value='государство')])\n"
     ]
    }
   ],
   "source": [
    "match = result.matches[1]\n",
    "referent = match.referent\n",
    "print(referent)\n",
    "match = result.matches[2]\n",
    "referent = match.referent\n",
    "print(referent)\n",
    "\n"
   ]
  },
  {
   "cell_type": "code",
   "execution_count": 6,
   "metadata": {},
   "outputs": [],
   "source": [
    "def check(slot_):\n",
    "    a=str(type(slot_.value))\n",
    "    if a==\"<class 'pullenti_client.referent.Referent'>\":\n",
    "        return 1\n",
    "    return 0\n",
    "        #ref_parse(slot_)"
   ]
  },
  {
   "cell_type": "code",
   "execution_count": 7,
   "metadata": {},
   "outputs": [],
   "source": [
    "LIST=[]\n"
   ]
  },
  {
   "cell_type": "code",
   "execution_count": 8,
   "metadata": {},
   "outputs": [],
   "source": [
    "def ref_parse(referent,root):\n",
    "    print(root[0],root[1],referent.label)\n",
    "    root.append(referent.label)\n",
    "    LIST.append(root)\n",
    "    \n",
    "    for slot in referent.slots:\n",
    "        if check(slot)==0:\n",
    "            print(referent.label,'->',slot.key,'=',slot.value)\n",
    "            LIST.append([referent.label,slot.key,slot.value])\n",
    "            \n",
    "        else:\n",
    "            root=[referent.label,slot.key]\n",
    "            ref_parse(slot.value,root)\n",
    "\n",
    "      "
   ]
  },
  {
   "cell_type": "code",
   "execution_count": 11,
   "metadata": {},
   "outputs": [
    {
     "name": "stdout",
     "output_type": "stream",
     "text": [
      "root root PERSON\n",
      "PERSON -> SEX = MALE\n",
      "PERSON -> LASTNAME = МЕДВЕДЕВ\n",
      "PERSON -> FIRSTNAME = ДМИТРИЙ\n",
      "PERSON ATTRIBUTE PERSONPROPERTY\n",
      "PERSONPROPERTY -> NAME = глава государства\n",
      "[['root', 'root', 'PERSON'], ['PERSON', 'SEX', 'MALE'], ['PERSON', 'LASTNAME', 'МЕДВЕДЕВ'], ['PERSON', 'FIRSTNAME', 'ДМИТРИЙ'], ['PERSON', 'ATTRIBUTE', 'PERSONPROPERTY'], ['PERSONPROPERTY', 'NAME', 'глава государства']]\n",
      "===============================\n",
      "root root PERSON\n",
      "PERSON -> SEX = MALE\n",
      "PERSON -> LASTNAME = ПУТИН\n",
      "PERSON -> FIRSTNAME = ВЛАДИМИР\n",
      "PERSON ATTRIBUTE PERSONPROPERTY\n",
      "PERSONPROPERTY REF ORGANIZATION\n",
      "ORGANIZATION -> PROFILE = State\n",
      "ORGANIZATION -> TYPE = правительство\n",
      "ORGANIZATION GEO GEO\n",
      "GEO -> ALPHA2 = RU\n",
      "GEO -> NAME = РФ\n",
      "GEO -> NAME = РОССИЙСКАЯ ФЕДЕРАЦИЯ\n",
      "GEO -> NAME = РОССИЯ\n",
      "GEO -> TYPE = государство\n",
      "PERSONPROPERTY -> NAME = председатель\n",
      "[['root', 'root', 'PERSON'], ['PERSON', 'SEX', 'MALE'], ['PERSON', 'LASTNAME', 'ПУТИН'], ['PERSON', 'FIRSTNAME', 'ВЛАДИМИР'], ['PERSON', 'ATTRIBUTE', 'PERSONPROPERTY'], ['PERSONPROPERTY', 'REF', 'ORGANIZATION'], ['ORGANIZATION', 'PROFILE', 'State'], ['ORGANIZATION', 'TYPE', 'правительство'], ['ORGANIZATION', 'GEO', 'GEO'], ['GEO', 'ALPHA2', 'RU'], ['GEO', 'NAME', 'РФ'], ['GEO', 'NAME', 'РОССИЙСКАЯ ФЕДЕРАЦИЯ'], ['GEO', 'NAME', 'РОССИЯ'], ['GEO', 'TYPE', 'государство'], ['PERSONPROPERTY', 'NAME', 'председатель']]\n",
      "===============================\n",
      "root root GEO\n",
      "GEO -> ALPHA2 = ZW\n",
      "GEO -> NAME = РЕСПУБЛИКА ЗИМБАБВЕ\n",
      "GEO -> NAME = ЗИМБАБВЕ\n",
      "GEO -> TYPE = государство\n",
      "[['root', 'root', 'GEO'], ['GEO', 'ALPHA2', 'ZW'], ['GEO', 'NAME', 'РЕСПУБЛИКА ЗИМБАБВЕ'], ['GEO', 'NAME', 'ЗИМБАБВЕ'], ['GEO', 'TYPE', 'государство']]\n",
      "===============================\n"
     ]
    }
   ],
   "source": [
    "iter=0\n",
    "for match in result.matches:\n",
    "    referent = match.referent\n",
    "    #print(referent)\n",
    "    ref_parse(referent,root=['root','root'])\n",
    "    print(LIST)\n",
    "    ne_fill(LIST, iter)\n",
    "    iter=iter+1\n",
    "    print('===============================')\n",
    "    LIST=[]\n",
    "iter=0"
   ]
  },
  {
   "cell_type": "code",
   "execution_count": 9,
   "metadata": {},
   "outputs": [],
   "source": [
    "\n",
    "def ne_filler(list):\n",
    "    from py2neo import Graph,Node,Relationship\n",
    "    graph = Graph(\"neo4j://localhost:7687\", auth=(\"neo4j\", \"1\"))\n",
    "    for i in list:   \n",
    "        a = Node(\"Word_\", name=i[0])\n",
    "        print(i[0],i[1],i[2])\n",
    "        b = Node(\"Word_\", name=i[2])\n",
    "        ab = Relationship(a, i[1], b)\n",
    "        graph.create(ab)"
   ]
  },
  {
   "cell_type": "code",
   "execution_count": 10,
   "metadata": {},
   "outputs": [],
   "source": [
    "\n",
    "\n",
    "def add_node(tx, first,  rel, second,iter):\n",
    "\n",
    "    from neo4j import GraphDatabase\n",
    "    driver = GraphDatabase.driver(\"neo4j://localhost:7687\", auth=(\"neo4j\", \"1\"))\n",
    "\n",
    "    \n",
    "    tx.run(\"MERGE (a:Word\"+str(iter)+\" {name: $first}) \"\n",
    "           \"MERGE (a)-[:\"+rel+\"]->(:Word\"+str(iter)+\" {name: $second})\",\n",
    "           first=first, second=second)\n",
    "\n",
    "def ne_fill(list,iter):\n",
    "    from neo4j import GraphDatabase\n",
    "    driver = GraphDatabase.driver(\"neo4j://localhost:7687\", auth=(\"neo4j\", \"1\"))\n",
    "    counter_=0\n",
    "    with driver.session() as session:\n",
    "        for i in list:\n",
    "            session.write_transaction(add_node, i[0], i[1], i[2],iter)\n",
    "            \n",
    "    \n",
    "    driver.close()"
   ]
  },
  {
   "cell_type": "code",
   "execution_count": 42,
   "metadata": {},
   "outputs": [
    {
     "name": "stdout",
     "output_type": "stream",
     "text": [
      "Referent(label='PERSON', slots=[Slot(key='SEX', value='MALE'), Slot(key='LASTNAME', value='МЕДВЕДЕВ'), Slot(key='FIRSTNAME', value='ДМИТРИЙ'), Slot(key='ATTRIBUTE', value=Referent(label='PERSONPROPERTY', slots=[Slot(key='NAME', value='глава государства')]))])\n",
      "root root PERSON\n",
      "PERSON -> SEX = MALE\n",
      "PERSON -> LASTNAME = МЕДВЕДЕВ\n",
      "PERSON -> FIRSTNAME = ДМИТРИЙ\n",
      "PERSON ATTRIBUTE PERSONPROPERTY\n",
      "PERSONPROPERTY -> NAME = глава государства\n",
      "Referent(label='PERSON', slots=[Slot(key='SEX', value='MALE'), Slot(key='LASTNAME', value='ПУТИН'), Slot(key='FIRSTNAME', value='ВЛАДИМИР'), Slot(key='ATTRIBUTE', value=Referent(label='PERSONPROPERTY', slots=[Slot(key='REF', value=Referent(label='ORGANIZATION', slots=[Slot(key='PROFILE', value='State'), Slot(key='TYPE', value='правительство'), Slot(key='GEO', value=Referent(label='GEO', slots=[Slot(key='ALPHA2', value='RU'), Slot(key='NAME', value='РФ'), Slot(key='NAME', value='РОССИЙСКАЯ ФЕДЕРАЦИЯ'), Slot(key='NAME', value='РОССИЯ'), Slot(key='TYPE', value='государство')]))])), Slot(key='NAME', value='председатель')]))])\n",
      "root root PERSON\n",
      "PERSON -> SEX = MALE\n",
      "PERSON -> LASTNAME = ПУТИН\n",
      "PERSON -> FIRSTNAME = ВЛАДИМИР\n",
      "PERSON ATTRIBUTE PERSONPROPERTY\n",
      "PERSONPROPERTY REF ORGANIZATION\n",
      "ORGANIZATION -> PROFILE = State\n",
      "ORGANIZATION -> TYPE = правительство\n",
      "ORGANIZATION GEO GEO\n",
      "GEO -> ALPHA2 = RU\n",
      "GEO -> NAME = РФ\n",
      "GEO -> NAME = РОССИЙСКАЯ ФЕДЕРАЦИЯ\n",
      "GEO -> NAME = РОССИЯ\n",
      "GEO -> TYPE = государство\n",
      "PERSONPROPERTY -> NAME = председатель\n"
     ]
    }
   ],
   "source": [
    "#\n",
    "#\n",
    "#\n",
    "#\n",
    "from neo4j import GraphDatabase\n",
    "\n",
    "driver = GraphDatabase.driver(\"neo4j://localhost:7687\", auth=(\"neo4j\", \"1\"))\n",
    "\n",
    "def add_node(tx, first,  rel, second):\n",
    "    tx.run(\"MERGE (a:Word {name: $first}) \"\n",
    "           \"MERGE (a)-[rel:Word{rel: $rel}]->(friend:Word {name: $second})\",\n",
    "           first=first, second=second, rel=rel)\n",
    "\n",
    "\n",
    "with driver.session() as session:\n",
    "    def ref_parse(referent,root_key,root_lab):\n",
    "        print(root_lab,root_key,referent.label)\n",
    "        session.write_transaction(add_node, root_lab, root_key, referent.label)\n",
    "        #print(referent.slots)\n",
    "        for slot in referent.slots:\n",
    "            #print(slot)\n",
    "            if check(slot)==0:\n",
    "                session.write_transaction(add_node, referent.label, slot.key, slot.value)\n",
    "                print(referent.label,'->',slot.key,'=',slot.value)\n",
    "            else:\n",
    "                \n",
    "                root=referent.label+'->'+ slot.key+'->'\n",
    "                root_key=slot.key\n",
    "                root_lab=referent.label\n",
    "                ref_parse(slot.value,root_key,root_lab)\n",
    "    for match in result.matches:\n",
    "        referent = match.referent\n",
    "        print(referent)\n",
    "        ref_parse(referent,root_key='root',root_lab='root')\n",
    "    #session.read_transaction(print_friends, \"Arthur\")\n",
    "\n",
    "driver.close()"
   ]
  },
  {
   "cell_type": "code",
   "execution_count": null,
   "metadata": {},
   "outputs": [],
   "source": []
  }
 ],
 "metadata": {
  "interpreter": {
   "hash": "bd4c67ef142469da7dc4d338a32ac40116904d26076b8e6aa587d80720bc6a2b"
  },
  "kernelspec": {
   "display_name": "Python 3.9.9 64-bit",
   "language": "python",
   "name": "python3"
  },
  "language_info": {
   "codemirror_mode": {
    "name": "ipython",
    "version": 3
   },
   "file_extension": ".py",
   "mimetype": "text/x-python",
   "name": "python",
   "nbconvert_exporter": "python",
   "pygments_lexer": "ipython3",
   "version": "3.9.9"
  },
  "orig_nbformat": 4
 },
 "nbformat": 4,
 "nbformat_minor": 2
}
